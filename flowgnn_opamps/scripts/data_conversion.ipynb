{
 "cells": [
  {
   "cell_type": "markdown",
   "id": "619d981c-feb4-46aa-b4fa-9f1db1b0f5d9",
   "metadata": {},
   "source": [
    "# Conversion of Ckt-Bench101 graphs to Torch Geometric 2.6\n",
    "\n",
    "The graphs from the Ckt-Bench101 dataset are provided in igraph format or torch-geometric format. However, the torch-geometric graphs were generated with an older torch-geometric version (< 2.0). Using this script, the igraph data can be converted to a newer torch-geometric format (2.6)"
   ]
  },
  {
   "cell_type": "code",
   "execution_count": 27,
   "id": "8053e894-3f43-49af-99a6-c3a2335f9a8b",
   "metadata": {},
   "outputs": [
    {
     "name": "stdout",
     "output_type": "stream",
     "text": [
      "Converting Training Set:\n"
     ]
    },
    {
     "name": "stderr",
     "output_type": "stream",
     "text": [
      "100%|████████████████████████████████████████████████████████████████████████████| 9000/9000 [00:05<00:00, 1526.68it/s]\n"
     ]
    },
    {
     "name": "stdout",
     "output_type": "stream",
     "text": [
      "Converting Test Set:\n"
     ]
    },
    {
     "name": "stderr",
     "output_type": "stream",
     "text": [
      "100%|████████████████████████████████████████████████████████████████████████████| 1000/1000 [00:00<00:00, 1197.28it/s]\n"
     ]
    }
   ],
   "source": [
    "import pickle\n",
    "import torch\n",
    "import torch.nn.functional as F\n",
    "\n",
    "from torch_geometric.data import Data\n",
    "from torch_geometric.utils import from_networkx\n",
    "from tqdm import tqdm\n",
    "\n",
    "file = \"./../data/ckt_bench_101.pkl\"\n",
    "with open(file, \"rb\") as f:\n",
    "    graphs = pickle.load(f)\n",
    "\n",
    "def igraph_to_torch_geometric(g_ig):\n",
    "    g_tg = from_networkx(g_ig.to_networkx())\n",
    "    type = F.one_hot(g_tg.type, 10).to(torch.float32)\n",
    "    feat = g_tg.feat[:, None]\n",
    "    x = torch.cat([type, feat], dim=1)\n",
    "    g_tg = Data(x=x, edge_index=g_tg.edge_index)\n",
    "    return g_tg\n",
    "\n",
    "# Training set\n",
    "print(\"Converting Training Set:\")\n",
    "train_graphs = []\n",
    "pbar = tqdm(graphs[0])\n",
    "for g in pbar:\n",
    "    g_tg = igraph_to_torch_geometric(g[1])\n",
    "    train_graphs.append(g_tg)\n",
    "\n",
    "# Test set\n",
    "print(\"Converting Test Set:\")\n",
    "test_graphs = []\n",
    "pbar = tqdm(graphs[1])\n",
    "for g in pbar:\n",
    "    g_tg = igraph_to_torch_geometric(g[1])\n",
    "    test_graphs.append(g_tg)\n",
    "\n",
    "graphs = [train_graphs, test_graphs]\n",
    "\n",
    "# Save to pickle\n",
    "with open('./../data/ckt_bench_101_tg26.pkl', 'wb') as f:\n",
    "    pickle.dump(graphs, f)\n"
   ]
  },
  {
   "cell_type": "code",
   "execution_count": null,
   "id": "700e0b2b-9747-4927-8a33-18bbcfcd097a",
   "metadata": {},
   "outputs": [],
   "source": []
  }
 ],
 "metadata": {
  "kernelspec": {
   "display_name": "cktgnn-env",
   "language": "python",
   "name": "cktgnn-env"
  },
  "language_info": {
   "codemirror_mode": {
    "name": "ipython",
    "version": 3
   },
   "file_extension": ".py",
   "mimetype": "text/x-python",
   "name": "python",
   "nbconvert_exporter": "python",
   "pygments_lexer": "ipython3",
   "version": "3.12.2"
  }
 },
 "nbformat": 4,
 "nbformat_minor": 5
}
